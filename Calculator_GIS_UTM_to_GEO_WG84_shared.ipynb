{
  "nbformat": 4,
  "nbformat_minor": 0,
  "metadata": {
    "colab": {
      "provenance": [],
      "authorship_tag": "ABX9TyMYwe94EVCszSd98G+dpCNz",
      "include_colab_link": true
    },
    "kernelspec": {
      "name": "python3",
      "display_name": "Python 3"
    },
    "language_info": {
      "name": "python"
    }
  },
  "cells": [
    {
      "cell_type": "markdown",
      "metadata": {
        "id": "view-in-github",
        "colab_type": "text"
      },
      "source": [
        "<a href=\"https://colab.research.google.com/github/germancruzram/Calculator-UTM_WGS84-to-WGS84_DG/blob/main/Calculator_GIS_UTM_to_GEO_WG84_shared.ipynb\" target=\"_parent\"><img src=\"https://colab.research.google.com/assets/colab-badge.svg\" alt=\"Open In Colab\"/></a>"
      ]
    },
    {
      "cell_type": "markdown",
      "source": [
        "# **APLICACION EN PYTHON PARA CONVERTIR UNIDADES UTM WGS84 A GEO_WG84**"
      ],
      "metadata": {
        "id": "89s77zBQiqnz"
      }
    },
    {
      "cell_type": "markdown",
      "source": [
        "**Ing. German Cruz R. 🇳**\n",
        "\n",
        "La función **transform** fue actualizada por funcionalidad de **pyproj** con la clase **Transformer**. Mayo 2024"
      ],
      "metadata": {
        "id": "9bfZpHlIcV1K"
      }
    },
    {
      "cell_type": "markdown",
      "source": [
        "# **1. INSTALAR PAQUETES**"
      ],
      "metadata": {
        "id": "g0TYIvFLiP_z"
      }
    },
    {
      "cell_type": "code",
      "source": [
        "!pip install pandas openpyxl pyproj\n"
      ],
      "metadata": {
        "colab": {
          "base_uri": "https://localhost:8080/"
        },
        "id": "R97RfuGzdUPZ",
        "outputId": "afef61e3-e783-42b6-9309-5db8f6ddc0b8"
      },
      "execution_count": null,
      "outputs": [
        {
          "output_type": "stream",
          "name": "stdout",
          "text": [
            "Requirement already satisfied: pandas in /usr/local/lib/python3.10/dist-packages (2.0.3)\n",
            "Requirement already satisfied: openpyxl in /usr/local/lib/python3.10/dist-packages (3.1.2)\n",
            "Requirement already satisfied: pyproj in /usr/local/lib/python3.10/dist-packages (3.6.1)\n",
            "Requirement already satisfied: python-dateutil>=2.8.2 in /usr/local/lib/python3.10/dist-packages (from pandas) (2.8.2)\n",
            "Requirement already satisfied: pytz>=2020.1 in /usr/local/lib/python3.10/dist-packages (from pandas) (2023.4)\n",
            "Requirement already satisfied: tzdata>=2022.1 in /usr/local/lib/python3.10/dist-packages (from pandas) (2024.1)\n",
            "Requirement already satisfied: numpy>=1.21.0 in /usr/local/lib/python3.10/dist-packages (from pandas) (1.25.2)\n",
            "Requirement already satisfied: et-xmlfile in /usr/local/lib/python3.10/dist-packages (from openpyxl) (1.1.0)\n",
            "Requirement already satisfied: certifi in /usr/local/lib/python3.10/dist-packages (from pyproj) (2024.2.2)\n",
            "Requirement already satisfied: six>=1.5 in /usr/local/lib/python3.10/dist-packages (from python-dateutil>=2.8.2->pandas) (1.16.0)\n"
          ]
        }
      ]
    },
    {
      "cell_type": "markdown",
      "source": [
        "# **2. EJECUTAR CONVERSION WGS UTM A GEO_WGS84**"
      ],
      "metadata": {
        "id": "nsSNZx2ViYv2"
      }
    },
    {
      "cell_type": "markdown",
      "source": [
        "**Recuerde subir el archivo excel con coordenadas UTM a la carpeta \"Coordenadas_UTM\"**"
      ],
      "metadata": {
        "id": "aNl16H4Jksv9"
      }
    },
    {
      "cell_type": "code",
      "source": [
        "import os\n",
        "\n",
        "# Ruta de la carpeta a crear\n",
        "folder_path = '/content/Coordenada_UTM'\n",
        "\n",
        "# Crear la carpeta si no existe\n",
        "if not os.path.exists(folder_path):\n",
        "    os.makedirs(folder_path)\n",
        "\n",
        "print(f\"La carpeta {folder_path} ha sido creada o ya existía.\")\n"
      ],
      "metadata": {
        "colab": {
          "base_uri": "https://localhost:8080/"
        },
        "id": "RZdhAKz0aRNE",
        "outputId": "c6be8a9d-3172-4991-805d-c372f597615e"
      },
      "execution_count": 3,
      "outputs": [
        {
          "output_type": "stream",
          "name": "stdout",
          "text": [
            "La carpeta /content/Coordenada_UTM ha sido creada o ya existía.\n"
          ]
        }
      ]
    },
    {
      "cell_type": "markdown",
      "source": [
        "**La siguiente celda procesa la información y genera un excel con las conversión a coordenadas geográficas WGS84_DG**"
      ],
      "metadata": {
        "id": "7lkTXB4WcwFq"
      }
    },
    {
      "cell_type": "code",
      "execution_count": 2,
      "metadata": {
        "colab": {
          "base_uri": "https://localhost:8080/"
        },
        "id": "jWQtfSXfb9Br",
        "outputId": "9129b281-86a1-4c0e-f9ef-dc587bb04456"
      },
      "outputs": [
        {
          "output_type": "stream",
          "name": "stdout",
          "text": [
            "Proceso concluido para: Datos UTM.xlsx\n",
            "Todos los archivos han sido procesados.\n"
          ]
        }
      ],
      "source": [
        "import pandas as pd\n",
        "import os\n",
        "from pyproj import Proj, Transformer\n",
        "\n",
        "def convert_utm_to_latlon(easting, northing, zone_number, zone_letter='N'):\n",
        "    proj_utm = Proj(proj='utm', zone=zone_number, datum='WGS84')\n",
        "    proj_latlon = Proj(proj='latlong', datum='WGS84')\n",
        "    transformer = Transformer.from_proj(proj_utm, proj_latlon)\n",
        "    lon, lat = transformer.transform(easting, northing)\n",
        "    return lat, lon\n",
        "\n",
        "folder_path = '/content/Coordenada_UTM'\n",
        "for filename in os.listdir(folder_path):\n",
        "    if filename.endswith('.xlsx') or filename.endswith('.xls'):\n",
        "        file_path = os.path.join(folder_path, filename)\n",
        "\n",
        "\n",
        "        df = pd.read_excel(file_path)\n",
        "        df[['Latitud', 'Longitud']] = df.apply(\n",
        "            lambda row: convert_utm_to_latlon(row['UTM Este WGS84'], row['UTM Norte WGS84'], int(row['Zona'][:-1]), row['Zona'][-1]),\n",
        "            axis=1,\n",
        "            result_type='expand'\n",
        "        )\n",
        "\n",
        "        base_name, ext = os.path.splitext(filename)\n",
        "        output_file_name = f\"{base_name}_to_GeoWGS84{ext}\"\n",
        "        output_file_path = os.path.join('/content/', output_file_name)\n",
        "\n",
        "        df.to_excel(output_file_path, index=False)\n",
        "\n",
        "        print(f\"Proceso concluido para: {filename}\")\n",
        "\n",
        "print(\"Todos los archivos han sido procesados.\")\n"
      ]
    }
  ]
}
